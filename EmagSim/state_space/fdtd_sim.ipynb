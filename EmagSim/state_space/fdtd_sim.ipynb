{
 "cells": [
  {
   "cell_type": "code",
   "execution_count": 1,
   "id": "b7b54e83",
   "metadata": {},
   "outputs": [],
   "source": [
    "import numpy as np\n",
    "import matplotlib.pyplot as plt\n",
    "import matplotlib.animation as animation"
   ]
  },
  {
   "cell_type": "code",
   "execution_count": 2,
   "id": "a20ab1e3",
   "metadata": {},
   "outputs": [],
   "source": [
    "eps0 = 8.8541878128e-12 # permittivity of free space\n",
    "mu0 = 1.256637062e-6 # permeability of free space\n",
    "c0 = 2.99792458e8 # speed of light in vacuum\n",
    "imp0 = np.sqrt(mu0/eps0) # impedance of free space"
   ]
  },
  {
   "cell_type": "code",
   "execution_count": 3,
   "id": "0fe36568",
   "metadata": {},
   "outputs": [
    {
     "name": "stdout",
     "output_type": "stream",
     "text": [
      "there are 4000 FDTD cells\n"
     ]
    }
   ],
   "source": [
    "simulation_size = 20e-6\n",
    "step_size = 5e-9 # dz\n",
    "N_space_cells = int(simulation_size/step_size) # jmax\n",
    "print(f\"there are {N_space_cells} FDTD cells\")"
   ]
  },
  {
   "cell_type": "code",
   "execution_count": 16,
   "id": "bdb81893",
   "metadata": {},
   "outputs": [
    {
     "name": "stdout",
     "output_type": "stream",
     "text": [
      "there are 5995 FDTD time steps\n",
      "1.66782047599076e-17\n"
     ]
    }
   ],
   "source": [
    "dt = step_size/c0\n",
    "simulation_time = 1e-13\n",
    "N_time_steps = int(simulation_time/dt)\n",
    "print(f\"there are {N_time_steps} FDTD time steps\")\n",
    "print(dt)"
   ]
  },
  {
   "cell_type": "code",
   "execution_count": 5,
   "id": "8bbc7d51",
   "metadata": {},
   "outputs": [],
   "source": [
    "Ex = np.zeros(N_space_cells)\n",
    "Hz = np.zeros(N_space_cells)"
   ]
  },
  {
   "cell_type": "code",
   "execution_count": 6,
   "id": "cb0620eb",
   "metadata": {},
   "outputs": [
    {
     "name": "stdout",
     "output_type": "stream",
     "text": [
      "state vector shape: (8000,)\n"
     ]
    }
   ],
   "source": [
    "state = np.zeros(N_space_cells * 2) # State vector consisting of alternating Ex and Hz\n",
    "print(f\"state vector shape: {state.shape}\")"
   ]
  },
  {
   "cell_type": "code",
   "execution_count": 7,
   "id": "9a8dfe10",
   "metadata": {},
   "outputs": [],
   "source": [
    "E_movie = []"
   ]
  },
  {
   "cell_type": "code",
   "execution_count": 8,
   "id": "d6d58012",
   "metadata": {},
   "outputs": [
    {
     "name": "stdout",
     "output_type": "stream",
     "text": [
      "0.00265441872824655\n",
      "376.73031366686985\n"
     ]
    }
   ],
   "source": [
    "h_coeff = dt/(mu0 * step_size)\n",
    "print(h_coeff)\n",
    "e_coeff = dt / (eps0 * step_size)\n",
    "print(e_coeff)"
   ]
  },
  {
   "cell_type": "code",
   "execution_count": 9,
   "id": "fda6380a",
   "metadata": {},
   "outputs": [],
   "source": [
    "#clear the field arrays\n",
    "Ex.fill(0)\n",
    "Hz.fill(0)\n"
   ]
  },
  {
   "cell_type": "code",
   "execution_count": 10,
   "id": "a186038d",
   "metadata": {},
   "outputs": [
    {
     "name": "stdout",
     "output_type": "stream",
     "text": [
      "matrix shape: (8000, 8000)\n"
     ]
    }
   ],
   "source": [
    "# N_space_cells = 4\n",
    "A = np.zeros((N_space_cells*2, N_space_cells*2))\n",
    "\n",
    "# Update electric field (even-indexed rows) for interior cells\n",
    "for i in range(1, N_space_cells-1):\n",
    "    row = 2 * i\n",
    "    # See notes for the structure of the matrix\n",
    "    A[row, row] = 0\n",
    "    A[row, row + 1] = 1/(eps0 * step_size)\n",
    "    A[row, row - 1] = -1/(eps0 * step_size)\n",
    "\n",
    "# Update magnetic field (odd-indexed rows) for cells 0 to N-2\n",
    "for i in range(0, N_space_cells-2):\n",
    "    row = 2 * i + 1\n",
    "    A[row, row] = 0\n",
    "    A[row, row + 1] = 1/(mu0 * step_size)\n",
    "    A[row, row - 1] = -1/(mu0 * step_size)\n",
    "\n",
    "# print(A*dt)\n",
    "print(f\"matrix shape: {A.shape}\")\n"
   ]
  },
  {
   "cell_type": "code",
   "execution_count": null,
   "id": "7bbc0a3d",
   "metadata": {},
   "outputs": [],
   "source": [
    "# Forward euler time-stepping using state space method\n",
    "for n in range(N_time_steps):\n",
    "    # Update state vector\n",
    "    state = state + A @ state\n",
    "\n",
    "    # add source\n",
    "    state[0] = 1\n",
    "\n",
    "    # Save the electric field\n",
    "    if n % 100 == 0:\n",
    "        V = state[0::2]\n",
    "        print(f\"step: {n})\")\n",
    "        print(np.min(V),np.max(V))\n",
    "        E_movie.append(V)\n"
   ]
  },
  {
   "cell_type": "code",
   "execution_count": 11,
   "id": "9ade0bd4",
   "metadata": {},
   "outputs": [
    {
     "name": "stdout",
     "output_type": "stream",
     "text": [
      "(4000, 4000)\n",
      "(4000, 4000)\n",
      "(4000, 4000)\n",
      "(4000, 4000)\n",
      "[[   0.            0.            0.         ...    0.\n",
      "     0.            0.        ]\n",
      " [-376.73031367  376.73031367    0.         ...    0.\n",
      "     0.            0.        ]\n",
      " [   0.         -376.73031367  376.73031367 ...    0.\n",
      "     0.            0.        ]\n",
      " ...\n",
      " [   0.            0.            0.         ...  376.73031367\n",
      "     0.            0.        ]\n",
      " [   0.            0.            0.         ... -376.73031367\n",
      "   376.73031367    0.        ]\n",
      " [   0.            0.            0.         ...    0.\n",
      "  -376.73031367  376.73031367]]\n",
      "[[-0.00265442  0.00265442  0.         ...  0.          0.\n",
      "   0.        ]\n",
      " [ 0.         -0.00265442  0.00265442 ...  0.          0.\n",
      "   0.        ]\n",
      " [ 0.          0.         -0.00265442 ...  0.          0.\n",
      "   0.        ]\n",
      " ...\n",
      " [ 0.          0.          0.         ... -0.00265442  0.00265442\n",
      "   0.        ]\n",
      " [ 0.          0.          0.         ...  0.         -0.00265442\n",
      "   0.00265442]\n",
      " [ 0.          0.          0.         ...  0.          0.\n",
      "   0.        ]]\n",
      "[[1. 0. 0. ... 0. 0. 0.]\n",
      " [0. 1. 0. ... 0. 0. 0.]\n",
      " [0. 0. 1. ... 0. 0. 0.]\n",
      " ...\n",
      " [0. 0. 0. ... 1. 0. 0.]\n",
      " [0. 0. 0. ... 0. 1. 0.]\n",
      " [0. 0. 0. ... 0. 0. 1.]]\n",
      "[[1. 0. 0. ... 0. 0. 0.]\n",
      " [0. 1. 0. ... 0. 0. 0.]\n",
      " [0. 0. 1. ... 0. 0. 0.]\n",
      " ...\n",
      " [0. 0. 0. ... 1. 0. 0.]\n",
      " [0. 0. 0. ... 0. 1. 0.]\n",
      " [0. 0. 0. ... 0. 0. 1.]]\n"
     ]
    }
   ],
   "source": [
    "# N_space_cells = 4\n",
    "Gm = np.eye(N_space_cells)\n",
    "Rm = np.eye(N_space_cells)\n",
    "\n",
    "Cm = np.zeros((N_space_cells, N_space_cells))\n",
    "for i in range(1, N_space_cells):\n",
    "    Cm[i, i-1] = -1\n",
    "    Cm[i, i] = 1\n",
    "\n",
    "Cm = dt / (eps0 * step_size) * Cm\n",
    "\n",
    "Lm = np.zeros((N_space_cells, N_space_cells))\n",
    "for i in range(0, N_space_cells-1):\n",
    "    Lm[i, i+1] = 1\n",
    "    Lm[i, i] = -1\n",
    "\n",
    "Lm = dt / (mu0 * step_size) * Lm\n",
    "\n",
    "print(Cm.shape)\n",
    "print(Lm.shape)\n",
    "print(Gm.shape)\n",
    "print(Rm.shape)\n",
    "print(Cm)\n",
    "print(Lm)\n",
    "print(Gm)\n",
    "print(Rm)"
   ]
  },
  {
   "cell_type": "code",
   "execution_count": 12,
   "id": "fc925cb2",
   "metadata": {},
   "outputs": [
    {
     "name": "stdout",
     "output_type": "stream",
     "text": [
      "matrix shape: (8000, 8000)\n",
      "-2.6544187282465498e-05\n"
     ]
    }
   ],
   "source": [
    "Ade = np.block([[Gm, Cm], [Lm, Rm]]) / 1e2\n",
    "print(f\"matrix shape: {Ade.shape}\")\n",
    "print(Ade[N_space_cells][0])"
   ]
  },
  {
   "cell_type": "code",
   "execution_count": 13,
   "id": "85d9d954",
   "metadata": {},
   "outputs": [
    {
     "name": "stdout",
     "output_type": "stream",
     "text": [
      "step: 0)\n",
      "0.0 1.0\n",
      "step: 100)\n",
      "0.0 1.0\n",
      "step: 200)\n",
      "0.0 1.0\n",
      "step: 300)\n",
      "0.0 1.0\n",
      "step: 400)\n",
      "0.0 1.0\n",
      "step: 500)\n",
      "0.0 1.0\n",
      "step: 600)\n",
      "0.0 1.0\n",
      "step: 700)\n",
      "0.0 1.0\n",
      "step: 800)\n",
      "0.0 1.0\n",
      "step: 900)\n",
      "0.0 1.0\n",
      "step: 1000)\n",
      "0.0 1.0\n",
      "step: 1100)\n",
      "0.0 1.0\n",
      "step: 1200)\n",
      "0.0 1.0\n",
      "step: 1300)\n",
      "0.0 1.0\n",
      "step: 1400)\n",
      "0.0 1.0\n",
      "step: 1500)\n",
      "0.0 1.0\n",
      "step: 1600)\n",
      "0.0 1.0\n",
      "step: 1700)\n",
      "0.0 1.0\n",
      "step: 1800)\n",
      "0.0 1.0\n",
      "step: 1900)\n",
      "0.0 1.0\n",
      "step: 2000)\n",
      "0.0 1.0\n",
      "step: 2100)\n",
      "0.0 1.0\n"
     ]
    },
    {
     "ename": "KeyboardInterrupt",
     "evalue": "",
     "output_type": "error",
     "traceback": [
      "\u001b[31m---------------------------------------------------------------------------\u001b[39m",
      "\u001b[31mKeyboardInterrupt\u001b[39m                         Traceback (most recent call last)",
      "\u001b[36mCell\u001b[39m\u001b[36m \u001b[39m\u001b[32mIn[13]\u001b[39m\u001b[32m, line 12\u001b[39m\n\u001b[32m      9\u001b[39m state[\u001b[32m0\u001b[39m] = \u001b[32m1\u001b[39m\n\u001b[32m     11\u001b[39m \u001b[38;5;66;03m# Save the electric field\u001b[39;00m\n\u001b[32m---> \u001b[39m\u001b[32m12\u001b[39m \u001b[38;5;28;01mif\u001b[39;00m n % \u001b[32m100\u001b[39m == \u001b[32m0\u001b[39m:\n\u001b[32m     13\u001b[39m     V = state[\u001b[32m0\u001b[39m:N_space_cells]\n\u001b[32m     14\u001b[39m     \u001b[38;5;28mprint\u001b[39m(\u001b[33mf\u001b[39m\u001b[33m\"\u001b[39m\u001b[33mstep: \u001b[39m\u001b[38;5;132;01m{\u001b[39;00mn\u001b[38;5;132;01m}\u001b[39;00m\u001b[33m)\u001b[39m\u001b[33m\"\u001b[39m)\n",
      "\u001b[31mKeyboardInterrupt\u001b[39m: "
     ]
    }
   ],
   "source": [
    "# Forward euler time-stepping using state space method\n",
    "E_movie = []\n",
    "state = np.zeros(N_space_cells * 2) # State vector\n",
    "for n in range(N_time_steps):\n",
    "    # Update state vector\n",
    "    state = Ade @ state\n",
    "\n",
    "    # add source\n",
    "    state[0] = 1\n",
    "\n",
    "    # Save the electric field\n",
    "    if n % 100 == 0:\n",
    "        V = state[0:N_space_cells]\n",
    "        print(f\"step: {n})\")\n",
    "        print(np.min(V),np.max(V))\n",
    "        E_movie.append(V)"
   ]
  },
  {
   "cell_type": "code",
   "execution_count": 14,
   "id": "e618d1c2",
   "metadata": {},
   "outputs": [
    {
     "name": "stdout",
     "output_type": "stream",
     "text": [
      "matrix shape: (8000, 8000)\n",
      "[[ 1.  0.  0. ...  0.  0.  0.]\n",
      " [ 1. -1.  1. ...  0.  0.  0.]\n",
      " [ 0.  1. -1. ...  0.  0.  0.]\n",
      " ...\n",
      " [ 0.  0.  0. ...  1.  0.  0.]\n",
      " [ 0.  0.  0. ...  0.  1.  0.]\n",
      " [ 0.  0.  0. ...  0.  0.  1.]]\n"
     ]
    }
   ],
   "source": [
    "Ady = np.block([[Gm + Cm @ Lm, Cm @ Rm], [Lm, Rm]])\n",
    "print(f\"matrix shape: {Ady.shape}\")\n",
    "print(Ady)"
   ]
  },
  {
   "cell_type": "code",
   "execution_count": 17,
   "id": "fa0cc2aa",
   "metadata": {},
   "outputs": [
    {
     "name": "stdout",
     "output_type": "stream",
     "text": [
      "step: 0)\n",
      "0.0 1.0\n",
      "step: 100)\n",
      "0.0 1.0000000095536468\n",
      "step: 200)\n",
      "0.0 1.0000000191072935\n",
      "step: 300)\n",
      "0.0 1.0000000286609403\n",
      "step: 400)\n",
      "0.0 1.000000038214587\n",
      "step: 500)\n",
      "0.0 1.0000000477682338\n",
      "step: 600)\n",
      "0.0 1.0000000573218806\n",
      "step: 700)\n",
      "0.0 1.0000000668755273\n",
      "step: 800)\n",
      "0.0 1.000000076429174\n",
      "step: 900)\n",
      "0.0 1.0000000859828209\n",
      "step: 1000)\n",
      "0.0 1.0000000955364676\n",
      "step: 1100)\n",
      "0.0 1.0000001050901144\n",
      "step: 1200)\n",
      "0.0 1.0000001146437612\n",
      "step: 1300)\n",
      "0.0 1.000000124197408\n",
      "step: 1400)\n",
      "0.0 1.0000001337510547\n",
      "step: 1500)\n",
      "0.0 1.0000001433047014\n",
      "step: 1600)\n",
      "0.0 1.0000001528583482\n",
      "step: 1700)\n",
      "0.0 1.000000162411995\n",
      "step: 1800)\n",
      "0.0 1.0000001719656417\n",
      "step: 1900)\n",
      "0.0 1.0000001815192885\n",
      "step: 2000)\n",
      "0.0 1.0000001910729353\n",
      "step: 2100)\n",
      "0.0 1.000000200626582\n",
      "step: 2200)\n",
      "0.0 1.0000002101802288\n",
      "step: 2300)\n",
      "0.0 1.0000002197338755\n",
      "step: 2400)\n",
      "0.0 1.0000002292875223\n",
      "step: 2500)\n",
      "0.0 1.000000238841169\n",
      "step: 2600)\n",
      "0.0 1.0000002483948158\n",
      "step: 2700)\n",
      "0.0 1.0000002579484626\n",
      "step: 2800)\n",
      "0.0 1.0000002675021094\n",
      "step: 2900)\n",
      "0.0 1.0000002770557561\n",
      "step: 3000)\n",
      "0.0 1.0000002866094029\n",
      "step: 3100)\n",
      "0.0 1.0000002961630496\n",
      "step: 3200)\n",
      "0.0 1.0000003057166964\n",
      "step: 3300)\n",
      "0.0 1.0000003152703432\n",
      "step: 3400)\n",
      "0.0 1.00000032482399\n",
      "step: 3500)\n",
      "0.0 1.0000003343776367\n",
      "step: 3600)\n",
      "0.0 1.0000003439312835\n",
      "step: 3700)\n",
      "0.0 1.0000003534849302\n",
      "step: 3800)\n",
      "0.0 1.000000363038577\n",
      "step: 3900)\n",
      "0.0 1.0000003725922237\n",
      "step: 4000)\n",
      "0.9999996181412447 2.0000000000955365\n",
      "step: 4100)\n",
      "0.9999996277129517 2.0000000192211806\n",
      "step: 4200)\n",
      "0.999999637284879 2.000000038346741\n",
      "step: 4300)\n",
      "0.9999996468559442 2.0000000574714725\n",
      "step: 4400)\n",
      "0.999999656426934 2.0000000765961756\n",
      "step: 4500)\n",
      "0.9999996659975987 2.0000000957204644\n",
      "step: 4600)\n",
      "0.99999967556779 2.000000114844322\n",
      "step: 4700)\n",
      "0.9999996851374529 2.000000133967672\n",
      "step: 4800)\n",
      "0.9999996947068959 2.0000001530907388\n",
      "step: 4900)\n",
      "0.9999997042759525 2.0000001722134457\n",
      "step: 5000)\n",
      "0.9999997138443164 2.000000191335436\n",
      "step: 5100)\n",
      "0.999999723411253 2.0000002104560064\n",
      "step: 5200)\n",
      "0.9999997329775643 2.0000002295760435\n",
      "step: 5300)\n",
      "0.999999742542204 2.0000002486942705\n",
      "step: 5400)\n",
      "0.9999997521054391 2.0000002678112283\n",
      "step: 5500)\n",
      "0.9999997616675738 2.000000286927007\n",
      "step: 5600)\n",
      "0.9999997712275546 2.0000003060407088\n",
      "step: 5700)\n",
      "0.999999780786315 2.000000325153188\n",
      "step: 5800)\n",
      "0.9999997903442894 2.0000003442647047\n",
      "step: 5900)\n",
      "0.999999799900821 2.0000003633749244\n"
     ]
    }
   ],
   "source": [
    "# Forward euler time-stepping using state space method\n",
    "E_movie = []\n",
    "state = np.zeros(N_space_cells * 2) # State vector\n",
    "for n in range(N_time_steps):\n",
    "    # Update state vector\n",
    "    state = Ady @ state\n",
    "\n",
    "    # add source\n",
    "    state[0] = 1\n",
    "\n",
    "    # Save the electric field\n",
    "    if n % 100 == 0:\n",
    "        V = state[0:N_space_cells]\n",
    "        print(f\"step: {n})\")\n",
    "        print(np.min(V),np.max(V))\n",
    "        E_movie.append(V)"
   ]
  },
  {
   "cell_type": "code",
   "execution_count": null,
   "id": "610ff9e6",
   "metadata": {},
   "outputs": [],
   "source": [
    "# FDTD algorithm\n",
    "for n in range(N_time_steps):\n",
    "    Hz_prev = Hz.copy()\n",
    "    Ex_prev = Ex.copy()\n",
    "\n",
    "    # update magnetic field at n+1/2\n",
    "    Hz[:N_space_cells-1] = Hz_prev[:N_space_cells-1] + h_coeff * (Ex[1:] - Ex[0:N_space_cells-1])\n",
    "\n",
    "    # update electric field at n+1\n",
    "    Ex[1:N_space_cells-1] = Ex_prev[1:N_space_cells-1] + e_coeff * (Hz[1:N_space_cells-1] - Hz[:N_space_cells-2])\n",
    "\n",
    "    # add electric field source\n",
    "    Ex[0] = 1\n",
    "\n",
    "    if n % 100 == 0:\n",
    "        print(n)\n",
    "        print(np.min(Ex),np.max(Ex))\n",
    "        E_movie.append(Ex.copy())"
   ]
  },
  {
   "cell_type": "code",
   "execution_count": 22,
   "id": "af56cf55",
   "metadata": {},
   "outputs": [
    {
     "ename": "IndexError",
     "evalue": "list index out of range",
     "output_type": "error",
     "traceback": [
      "\u001b[31m---------------------------------------------------------------------------\u001b[39m",
      "\u001b[31mIndexError\u001b[39m                                Traceback (most recent call last)",
      "\u001b[36mCell\u001b[39m\u001b[36m \u001b[39m\u001b[32mIn[22]\u001b[39m\u001b[32m, line 1\u001b[39m\n\u001b[32m----> \u001b[39m\u001b[32m1\u001b[39m plt.plot(\u001b[43mE_movie\u001b[49m\u001b[43m[\u001b[49m\u001b[32;43m100\u001b[39;49m\u001b[43m]\u001b[49m)\n\u001b[32m      2\u001b[39m plt.show()\n",
      "\u001b[31mIndexError\u001b[39m: list index out of range"
     ]
    }
   ],
   "source": [
    "plt.plot(E_movie[100])\n",
    "plt.show()"
   ]
  },
  {
   "cell_type": "code",
   "execution_count": 23,
   "id": "4d6c68cc",
   "metadata": {},
   "outputs": [
    {
     "name": "stderr",
     "output_type": "stream",
     "text": [
      "MovieWriter imagemagick unavailable; using Pillow instead.\n"
     ]
    },
    {
     "data": {
      "image/png": "[encoded data removed]",
      "text/plain": [
       "<Figure size 640x480 with 1 Axes>"
      ]
     },
     "metadata": {},
     "output_type": "display_data"
    }
   ],
   "source": [
    "frames = [] # for storing the generated images\n",
    "fig = plt.figure()\n",
    "ax = fig.add_subplot(1,1,1)\n",
    "\n",
    "for i in range(len(E_movie)):\n",
    "    im, = ax.plot(E_movie[i],color = 'red')\n",
    "    frames.append([im])\n",
    "ani = animation.ArtistAnimation(fig, frames, interval=20, blit=True,\n",
    "                                repeat_delay=1000)\n",
    "\n",
    "# plt.show()\n",
    "ani.save('fdtd.gif', writer='imagemagick', fps=30)"
   ]
  }
 ],
 "metadata": {
  "kernelspec": {
   "display_name": ".venv",
   "language": "python",
   "name": "python3"
  },
  "language_info": {
   "codemirror_mode": {
    "name": "ipython",
    "version": 3
   },
   "file_extension": ".py",
   "mimetype": "text/x-python",
   "name": "python",
   "nbconvert_exporter": "python",
   "pygments_lexer": "ipython3",
   "version": "3.13.1"
  }
 },
 "nbformat": 4,
 "nbformat_minor": 5
}
